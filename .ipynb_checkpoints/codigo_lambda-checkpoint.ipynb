{
 "cells": [
  {
   "cell_type": "code",
   "execution_count": null,
   "id": "2a75d5a5",
   "metadata": {},
   "outputs": [],
   "source": [
    "import boto3\n",
    "import os\n",
    "import csv\n",
    "import json\n",
    "import datetime\n",
    "\n",
    "s3 = boto3.client(\"s3\")\n",
    "BUCKET_NAME = os.environ[\"BUCKET_NAME\"]\n",
    "DATA_KEY = \"demanda/demanda_completa.json\"  # JSON con todos los datos\n",
    "\n",
    "geo_dict = {\n",
    "    4:\"Andalucía\",5:\"Aragón\",6:\"Cantabria\",7:\"Castilla la Mancha\",\n",
    "    8:\"Castilla y León\",9:\"Cataluña\",10:\"País Vasco\",\n",
    "    11:\"Principado de Asturias\",8744:\"Comunidad de Ceuta\",\n",
    "    8745:\"Comunidad de Melilla\",13:\"Comunidad de Madrid\",\n",
    "    14:\"Comunidad de Navarra\",15:\"Comunidad Valenciana\",\n",
    "    16:\"Extremadura\",17:\"Galicia\",8743:\"Islas Baleares\",\n",
    "    8742:\"Islas Canarias\",20:\"La Rioja\",21:\"Región de Murcia\"\n",
    "}\n",
    "\n",
    "def lambda_handler(event, context):\n",
    "    # Descargar JSON desde S3\n",
    "    s3.download_file(BUCKET_NAME, DATA_KEY, \"/tmp/demanda_completa.json\")\n",
    "    with open(\"/tmp/demanda_completa.json\") as f:\n",
    "        registros = json.load(f)\n",
    "\n",
    "    # Filtrar por fecha de hoy\n",
    "    hoy = datetime.date.today()\n",
    "    registros_hoy = [r for r in registros if r[\"datetime\"].startswith(hoy.isoformat())]\n",
    "\n",
    "    # Agrupar por comunidad y crear CSVs\n",
    "    comunidades = set(geo_dict[r[\"geo_id\"]] for r in registros_hoy)\n",
    "    prefix = f\"demanda_diaria/{hoy}/\"\n",
    "\n",
    "    for ccaa in comunidades:\n",
    "        ruta_local = f\"/tmp/{ccaa.replace(' ','_')}.csv\"\n",
    "        registros_ccaa = [r for r in registros_hoy if geo_dict[r[\"geo_id\"]] == ccaa]\n",
    "\n",
    "        with open(ruta_local, mode=\"w\", newline=\"\", encoding=\"utf-8\") as f:\n",
    "            writer = csv.DictWriter(f, fieldnames=[\"datetime\",\"value\",\"geo_id\"])\n",
    "            writer.writeheader()\n",
    "            writer.writerows(registros_ccaa)\n",
    "\n",
    "        ruta_s3 = prefix + f\"{ccaa.replace(' ','_')}.csv\"\n",
    "        s3.upload_file(ruta_local, BUCKET_NAME, ruta_s3)\n",
    "        print(f\"Subido: s3://{BUCKET_NAME}/{ruta_s3}\")\n",
    "\n",
    "    return {\"statusCode\": 200, \"body\": f\"CSV diarios subidos en s3://{BUCKET_NAME}/{prefix}\"}\n"
   ]
  }
 ],
 "metadata": {
  "kernelspec": {
   "display_name": "Python 3",
   "language": "python",
   "name": "python3"
  },
  "language_info": {
   "name": "python",
   "version": "3.13.2"
  }
 },
 "nbformat": 4,
 "nbformat_minor": 5
}
